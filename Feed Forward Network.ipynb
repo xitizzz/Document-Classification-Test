{
 "cells": [
  {
   "cell_type": "markdown",
   "metadata": {},
   "source": [
    "### Data Load"
   ]
  },
  {
   "cell_type": "code",
   "execution_count": 1,
   "metadata": {
    "collapsed": true
   },
   "outputs": [],
   "source": [
    "import pandas as pd\n",
    "import numpy as np"
   ]
  },
  {
   "cell_type": "code",
   "execution_count": 2,
   "metadata": {
    "collapsed": true
   },
   "outputs": [],
   "source": [
    "from sklearn.feature_extraction.text import CountVectorizer, TfidfVectorizer"
   ]
  },
  {
   "cell_type": "code",
   "execution_count": 3,
   "metadata": {
    "collapsed": true
   },
   "outputs": [],
   "source": [
    "train = pd.read_pickle('./train.pkl')"
   ]
  },
  {
   "cell_type": "code",
   "execution_count": 4,
   "metadata": {
    "collapsed": true
   },
   "outputs": [],
   "source": [
    "test = pd.read_pickle('./test.pkl')"
   ]
  },
  {
   "cell_type": "code",
   "execution_count": 5,
   "metadata": {
    "collapsed": true
   },
   "outputs": [],
   "source": [
    "vectorizer  = TfidfVectorizer(min_df=3)"
   ]
  },
  {
   "cell_type": "code",
   "execution_count": 6,
   "metadata": {},
   "outputs": [],
   "source": [
    "x_train = vectorizer.fit_transform(train.Content)"
   ]
  },
  {
   "cell_type": "code",
   "execution_count": 7,
   "metadata": {
    "collapsed": true
   },
   "outputs": [],
   "source": [
    "x_test = vectorizer.transform(test.Content)"
   ]
  },
  {
   "cell_type": "code",
   "execution_count": 8,
   "metadata": {
    "collapsed": true
   },
   "outputs": [],
   "source": [
    "y_train = pd.get_dummies(train.Lable).values"
   ]
  },
  {
   "cell_type": "code",
   "execution_count": 9,
   "metadata": {
    "collapsed": true
   },
   "outputs": [],
   "source": [
    "y_test = pd.get_dummies(test.Lable).values"
   ]
  },
  {
   "cell_type": "markdown",
   "metadata": {},
   "source": [
    "### Feed Forward Network"
   ]
  },
  {
   "cell_type": "markdown",
   "metadata": {},
   "source": [
    "I use sklearn style wrapper for feed forward neural network. This wrapper allows to modify hyper-parameters quickly. It uses keras + tensorflow"
   ]
  },
  {
   "cell_type": "code",
   "execution_count": 10,
   "metadata": {
    "scrolled": true
   },
   "outputs": [
    {
     "name": "stderr",
     "output_type": "stream",
     "text": [
      "C:\\Users\\k\\Anaconda3\\lib\\site-packages\\h5py\\__init__.py:34: FutureWarning: Conversion of the second argument of issubdtype from `float` to `np.floating` is deprecated. In future, it will be treated as `np.float64 == np.dtype(float).type`.\n",
      "  from ._conv import register_converters as _register_converters\n",
      "Using TensorFlow backend.\n"
     ]
    }
   ],
   "source": [
    "from neural_network import FeedForwardNetwork"
   ]
  },
  {
   "cell_type": "code",
   "execution_count": 11,
   "metadata": {
    "collapsed": true
   },
   "outputs": [],
   "source": [
    "model = FeedForwardNetwork(batch_size=256, hidden_layers=[100] ,verbosity=2, epochs=10, validation_split=0.1, dropout=0.6, early_stopping=True)"
   ]
  },
  {
   "cell_type": "code",
   "execution_count": 12,
   "metadata": {},
   "outputs": [
    {
     "name": "stdout",
     "output_type": "stream",
     "text": [
      "Data size (50000, 123846) -\t Epochs 10 -\t Batch Size 256\n",
      "Train on 45000 samples, validate on 5000 samples\n",
      "Epoch 1/10\n",
      "45000/45000 [==============================] - 47s 1ms/step - loss: 1.2670 - acc: 0.6470 - val_loss: 0.7280 - val_acc: 0.8002\n",
      "Epoch 2/10\n",
      "45000/45000 [==============================] - 43s 953us/step - loss: 0.6000 - acc: 0.8323 - val_loss: 0.5424 - val_acc: 0.8470\n",
      "Epoch 3/10\n",
      "45000/45000 [==============================] - 43s 954us/step - loss: 0.4160 - acc: 0.8848 - val_loss: 0.4815 - val_acc: 0.8586\n",
      "Epoch 4/10\n",
      "45000/45000 [==============================] - 43s 955us/step - loss: 0.3083 - acc: 0.9161 - val_loss: 0.4552 - val_acc: 0.8638\n",
      "Epoch 5/10\n",
      "45000/45000 [==============================] - 43s 955us/step - loss: 0.2325 - acc: 0.9396 - val_loss: 0.4487 - val_acc: 0.8660\n",
      "Epoch 6/10\n",
      "45000/45000 [==============================] - 43s 952us/step - loss: 0.1750 - acc: 0.9568 - val_loss: 0.4518 - val_acc: 0.8656\n",
      "Fit complete in 261.82 seconds\n"
     ]
    }
   ],
   "source": [
    "model.fit(X=x_train, y=y_train)"
   ]
  },
  {
   "cell_type": "markdown",
   "metadata": {},
   "source": [
    "### Testing "
   ]
  },
  {
   "cell_type": "markdown",
   "metadata": {},
   "source": [
    "Test the model one finalized"
   ]
  },
  {
   "cell_type": "code",
   "execution_count": 13,
   "metadata": {},
   "outputs": [
    {
     "name": "stdout",
     "output_type": "stream",
     "text": [
      "12204/12204 [==============================] - 16s 1ms/step\n"
     ]
    },
    {
     "data": {
      "text/plain": [
       "[0.4355159841846615, 0.8644706653946933]"
      ]
     },
     "execution_count": 13,
     "metadata": {},
     "output_type": "execute_result"
    }
   ],
   "source": [
    "model.model.evaluate(x=x_test, y=y_test)"
   ]
  },
  {
   "cell_type": "markdown",
   "metadata": {},
   "source": [
    "### Retrain and Pack Model"
   ]
  },
  {
   "cell_type": "markdown",
   "metadata": {},
   "source": [
    "Retrain on all data and serialize for use in application"
   ]
  },
  {
   "cell_type": "code",
   "execution_count": 14,
   "metadata": {
    "collapsed": true
   },
   "outputs": [],
   "source": [
    "import pickle as pk "
   ]
  },
  {
   "cell_type": "code",
   "execution_count": 15,
   "metadata": {},
   "outputs": [],
   "source": [
    "data = pd.concat([train, test])"
   ]
  },
  {
   "cell_type": "code",
   "execution_count": 16,
   "metadata": {
    "collapsed": true
   },
   "outputs": [],
   "source": [
    "vectorizer  = TfidfVectorizer(min_df=3)"
   ]
  },
  {
   "cell_type": "code",
   "execution_count": 17,
   "metadata": {
    "collapsed": true
   },
   "outputs": [],
   "source": [
    "x = vectorizer.fit_transform(data.Content)"
   ]
  },
  {
   "cell_type": "code",
   "execution_count": 18,
   "metadata": {
    "collapsed": true
   },
   "outputs": [],
   "source": [
    "y = pd.get_dummies(data.Lable).values"
   ]
  },
  {
   "cell_type": "code",
   "execution_count": 19,
   "metadata": {
    "collapsed": true
   },
   "outputs": [],
   "source": [
    "pk.dump(vectorizer, file=open('vectorizer.pkl', 'wb'))"
   ]
  },
  {
   "cell_type": "code",
   "execution_count": 20,
   "metadata": {
    "collapsed": true
   },
   "outputs": [],
   "source": [
    "# Same as previous model, but validation split and early stopping removed and epochs set to early stopped epochs\n",
    "model = FeedForwardNetwork(batch_size=256, hidden_layers=[100] ,verbosity=2, epochs=5, dropout=0.6)"
   ]
  },
  {
   "cell_type": "code",
   "execution_count": 21,
   "metadata": {},
   "outputs": [
    {
     "name": "stdout",
     "output_type": "stream",
     "text": [
      "Data size (62204, 145845) -\t Epochs 5 -\t Batch Size 256\n",
      "Epoch 1/5\n",
      "62204/62204 [==============================] - 64s 1ms/step - loss: 1.1111 - acc: 0.6944\n"
     ]
    },
    {
     "name": "stderr",
     "output_type": "stream",
     "text": [
      "C:\\Users\\k\\Anaconda3\\lib\\site-packages\\keras\\callbacks.py:497: RuntimeWarning: Early stopping conditioned on metric `val_loss` which is not available. Available metrics are: loss,acc\n",
      "  (self.monitor, ','.join(list(logs.keys()))), RuntimeWarning\n"
     ]
    },
    {
     "name": "stdout",
     "output_type": "stream",
     "text": [
      "Epoch 2/5\n",
      "62204/62204 [==============================] - 65s 1ms/step - loss: 0.5144 - acc: 0.8544\n",
      "Epoch 3/5\n",
      "62204/62204 [==============================] - 63s 1ms/step - loss: 0.3583 - acc: 0.8994\n",
      "Epoch 4/5\n",
      "62204/62204 [==============================] - 63s 1ms/step - loss: 0.2625 - acc: 0.9292\n",
      "Epoch 5/5\n",
      "62204/62204 [==============================] - 65s 1ms/step - loss: 0.1965 - acc: 0.9489\n",
      "Fit complete in 320.43 seconds\n"
     ]
    }
   ],
   "source": [
    "model.fit(X=x, y=y)"
   ]
  },
  {
   "cell_type": "code",
   "execution_count": 22,
   "metadata": {
    "collapsed": true
   },
   "outputs": [],
   "source": [
    "model.model.save('ffn.h5')"
   ]
  },
  {
   "cell_type": "markdown",
   "metadata": {},
   "source": [
    "### Test Case"
   ]
  },
  {
   "cell_type": "code",
   "execution_count": 23,
   "metadata": {
    "collapsed": true
   },
   "outputs": [],
   "source": [
    "words = test.Content[50000]"
   ]
  },
  {
   "cell_type": "code",
   "execution_count": 24,
   "metadata": {
    "collapsed": true
   },
   "outputs": [],
   "source": [
    "labels = list(pd.get_dummies(train.Lable).columns)"
   ]
  },
  {
   "cell_type": "code",
   "execution_count": 25,
   "metadata": {},
   "outputs": [
    {
     "data": {
      "text/plain": [
       "['APPLICATION',\n",
       " 'BILL',\n",
       " 'BILL BINDER',\n",
       " 'BINDER',\n",
       " 'CANCELLATION NOTICE',\n",
       " 'CHANGE ENDORSEMENT',\n",
       " 'DECLARATION',\n",
       " 'DELETION OF INTEREST',\n",
       " 'EXPIRATION NOTICE',\n",
       " 'INTENT TO CANCEL NOTICE',\n",
       " 'NON-RENEWAL NOTICE',\n",
       " 'POLICY CHANGE',\n",
       " 'REINSTATEMENT NOTICE',\n",
       " 'RETURNED CHECK']"
      ]
     },
     "execution_count": 25,
     "metadata": {},
     "output_type": "execute_result"
    }
   ],
   "source": [
    "labels"
   ]
  },
  {
   "cell_type": "code",
   "execution_count": 26,
   "metadata": {
    "scrolled": true
   },
   "outputs": [
    {
     "data": {
      "text/plain": [
       "'b53709df4565 41236ef86234 9f43707507d4 0b5273ff6b8d c9b917564931 b2e477f34f2e 5d14dbafa202 6b304aabdcee 1c0513b41e39 8442c7b20ebd fffcd2784f1f 46c88d9303da 26f768da5068 e4549cb26d13 dc32bc450322 5b86a72d0b5c bb00f25a2371 20d53168dbb6 2ecd83eb765f 0b5273ff6b8d c04bc38995f6 5e0ada30950e ed5376972206 aea809460491 26f768da5068 019aef1ca4e2 3d19c156da79 6af770640118 496f0ae3495a c85b3821556b 8397c99c9ce8 4d87510b8078 41b8bc8aa308 2ecd83eb765f 669b3d0100b0 ca89ece6fa29 a9d16358a5a5 b3bfe684f69b db5841f3564b cbfbf8a6dae8 23922552a7b2 1ecc22fada6d 6dde04aab38a 349138fc9d1f 23ecccc83abc 1ab34730c1e0 54709b24b45f 1615e491eaf2 be0d06caf707 1ee4d6725a3c cb70131b7955 b7a0f56f6ce8 bf064c332aa1 2da39f28c11c 48e0478ade50 1015893e384a 0699bac77427 0424f5084ae2 ca80e077feb2 bad6ff5dd7bc 2f39b67a7ff6 1031afa38dba e285504b15ab 58fd01b6676f 6dd785a78dc4 cb16de709496 d3196f699a9d e1ddb3dc3164 c528b5658528 898e63c07798 91b35abb2f4e 54709b24b45f d4d17158df11 7b37ec68bf67 c6611d0016e2 9be24340fc0e 726e5ebd56d8 cd87785bc56a 15e12cb87126 c68dc0c4094c 6b304aabdcee 75449529844f 2922127bc207 4209cf8d9df3 494ce026ce4d c85b3821556b 5ddad7aa76f5 5ee06767bc0f 118931ca018b e8faf9f3abee 4978e97aaf9b 54709b24b45f dc225bfdd246 26f768da5068 e45247bfe96e 780fa7fc8e47 1a5525f27cc9 83a90d60a6cc a7c93dbd6506 c85b3821556b 9e0e79114c2e f1ab3ecc33c8 61d55a85626a 347ac5e57069 a8619324f5e3 8dd9e3e0af24 8fe88c0e989c 6a01047db3ab ebe48d9f7e13 5c3d6fd6e917 6ce6cc5a3203 e8b3fc9fa86a 460b9c9a8c36 446bdeb3240a 3d04e8a08335 8fc4ec925d63 90769b70107f a8aca8858cb9 cf6e30467290 c68dc0c4094c 338412a6f773 e0f2dc8a37c0 8d21095e8690 27fc711eceee 0424f5084ae2 9c6d2f61cb39 1a5525f27cc9 89aed7fbfb0e 361b00c8cbb5 96821e6e9db6 6af13416a5d1 9f11111004ec 46c88d9303da 996e5b27ccc6 1a5525f27cc9 2e85d01c5d75 5c417706b61d 1a5525f27cc9 c85b3821556b ba4ea49affbb bb3631099a45 2e85d01c5d75 2e85d01c5d75 65fb00919ba3 c85b3821556b 550a2380d719 6b304aabdcee 0015fedf7afd 79d528462822 ebbd67681666 11cfffd46682 1f5848098978 6ae62bd298b5 2f39b67a7ff6 09262bc190b3 84bf8a94981c 67b2f70c60f5 e8bf88bf3d3b b37b7d34e61c ef5c324b8be2 08250b8b58a8 0e4651f1aa23 f0bce85c6eda e61246e17a9d 2e85d01c5d75 ed5376972206 dfcad31e6603 0272d81e361f f5221b9b442f a8619324f5e3 6b304aabdcee dfeb62733600 bc5b6aa74933 519cee66db11 e39fa5d90542 f999a6afce31 47a73156003f 8f67fb7907c9 c85b3821556b 46c88d9303da 2e85d01c5d75 6c68fc52cdba f4c8006074b9 2e85d01c5d75 2e85d01c5d75 94433fbaf1b0 41a4cb20e31f 996e98ce6acf 8c772ad7f1b6 31d21e8d064d a1fde4983c10 df1f4dc82644 066dd4fe77b4 518a551a91cc 6b304aabdcee 923cb2f483b9 7f340ef4f0f1 610b3967fc01 6ca2dd348663 b9699ce57810 b71ae73bb6f1 36e7aa72ffe1 17bd1f49c9a0 88b54dcb2c07 0de253e1cc52 557ec6c63cf9 e28c9cc8c20c 1015893e384a bd0972f16400 97c8fada3017 26f768da5068 fa80b6ed74f1 0699bac77427 eb51798a89e1 73fc25ddfdbb c6c9d6c70455 bc5b6aa74933 557ec6c63cf9 4e5019f629a9 066dd4fe77b4 93c44420a2d7 7d3b6a39ee71 0b247c53f3fd d1ca7230b6f7 564aaf0c408b 894305951372 47a93bc40c2e 44df119f34bb 5948001254b3 144fb7290602 9f3fbcd1af9b 0a6eb038c015 495faa839094 4faebb8051b2 abe7d2dd7c9b 28acc21c4cd8 3b04a7b58b8a a65c2054eec2 6f1709037e6a 1c303d15eb65 2754ccb9e522 ed1e3242ee34 6f80fc93f829 dc2ad5b751e4 6fe0cf5b3c7c e543a3bdce96 b73e657498f2 365a9390d225 90feaac29e51 f6de190d2717 1106a674b78f 801b08c3d068 ddf4525e90e3 e7cd4c5dbb3a 573cf83717f5 46c88d9303da 8b0131ee1005 54c5b0cb1ad5 41fdbbde2c23 fd0818c62a57 333378688c66 fae3794cd395 801b08c3d068 29cb57938a21 6af770640118 962dbf3e4346 0179f5bdaeb3 6d9198c3028c 09419de366d0 6f09768849a4 731fedbc7528 ce57f1c59e16 25b4f9e5e3cb beb472104206 dc0289a98131 9b88c973ae02 e41bddc07b7b ae2b3ae89891 f2a2018da43f b90c77cf3ad7 3c98959d1931 e28c9cc8c20c ca7c01455b13 8f75273e5510 045630a82da4 963625185a4b 86a22d9dbc13 2aa073f4f073 a1c698a351a4 6b051b80f7ae 4c5e59c52027 6365c4563bd1 38dde85bafae 1c303d15eb65 4bcc2cfb3bfe f7214fb9a1d0 3c963e3ac967 fd069c92e894 304f8f0586ef 069bb67ab853 0687dde490d6 f02d95cd07a2 6b343f522f78 7348597270c8 2baf2cfd006d 564aaf0c408b 564aaf0c408b 324b89a6dd35 365a9390d225 4d64a5fda0e5 c0d455ef7403 6d10c76d455a 6b304aabdcee 13d76e600677 591b7eb7716f f56b300cc325 95f688c3a653 921994922e2e 4978e97aaf9b b01e8335784f 098e24b94a2b c746ff9c473e 79ddabbf1347 4a9ad900f860 54709b24b45f 60ca64fe5d00 0fc555be9c3f 479e6e2b5afc c262ecc44574 9916e06229b0 f113304160ac 6ce6cc5a3203 9cdf4a63deb0 c0d455ef7403 8fc4ec925d63 fbb5efbcc5b3 6bdb1352a45b 557ec6c63cf9 eee490f67d73 774610782fb6 cfc66d22c685 557ec6c63cf9 d4d17158df11 fee60001e67a 5c02c2aaa67b 23ecccc83abc 9be24340fc0e d63be9e66da8 f9b20c280980 54709b24b45f b9699ce57810 6d1fb90988cf 91b35abb2f4e c9235015e587 5ff4125e9d7b 2da39f28c11c 48e0478ade50 c6cdd678c7e5 23ecccc83abc d63be9e66da8 bf064c332aa1 6a01047db3ab 0699bac77427 6ce6cc5a3203 e4dad7cb07b6 1015893e384a 4f36cf67ac38 b7a0f56f6ce8 ce1f034abb5d c9235015e587 557ec6c63cf9 8fc4ec925d63 90769b70107f a024d1e04168 460b9c9a8c36 8fe88c0e989c 3d04e8a08335 c337a85b8ef9 a9ee836e8303 580a08f5c8b9 23ecccc83abc 6c841693835d 5fa62998872f 1ab34730c1e0 e3966d37cdff 557ec6c63cf9 c286b39537d9 dcc35adc73e7 62d4ce884b4b ed1e3242ee34 54709b24b45f 62d4ce884b4b 557ec6c63cf9 8b0fc6d5c7a0 69e10bcd0d9a c36b062de326 0562c756a2f2 c884f388875e 0fc5e78a6f13 36e7aa72ffe1 0969e9a2a900 13f3d768fc53 446bdeb3240a 9f11111004ec e75aeae14c73 33bc13c082df ed1e3242ee34 69e10bcd0d9a c36b062de326 cf61b929ab11 4f36cf67ac38 557ec6c63cf9 d0ccc6cea610 ed1e3242ee34 557ec6c63cf9 4f36cf67ac38 93790ade6682 557ec6c63cf9 892738aa4c65 9d4f2dbbace0 b52ee94ed7eb ed1e3242ee34 a31962fbd5f3 57d5616683d8 395a5e8185f8 f32427b2f18e 6b304aabdcee f32427b2f18e ede1b389bad8 b52ee94ed7eb bc5b6aa74933 1c303d15eb65 b52ee94ed7eb ed1e3242ee34 519cee66db11 1c303d15eb65 33bc13c082df ed1e3242ee34 b99d622bf8e3 53fe13327382 6a01047db3ab c8427472cfe5 ebe48d9f7e13 5c3d6fd6e917 6ce6cc5a3203 b20f1fa2c3b9 8dd9e3e0af24 73801426ea65 6ce6cc5a3203 7cfae8937911 0699bac77427 c194a082b153 fad925913b3b 1015893e384a 5e99d31d8fa4 3d04e8a08335 d148688eb529 6ca2dd348663 f999a6afce31 2f2548bd374a 354a33176953 6b96ffa0ad3d d38820625542 23cdc89b6fee 6b304aabdcee f8c85c9f1539 e770f2684e5f 7c304ee21144 bf68b7abbc1f 47a93bc40c2e cdadbf6635a9 8f67fb7907c9 47a73156003f e8b3fc9fa86a 47a93bc40c2e 2ee1e0de2738 98d0d51b397c c6d5fe2e2185 1aedc8626a12 e4dad7cb07b6 97b6014f9e50 cf6e30467290 0699bac77427 8d21095e8690 e8faf9f3abee 5ee06767bc0f 118931ca018b c337a85b8ef9 3d04e8a08335 ff88f92b196e 90769b70107f a0c020166d79 9f11111004ec f9b20c280980 b9699ce57810 557ec6c63cf9 22f185bbfdb3 732c89ab3f19 36e7aa72ffe1 17bd1f49c9a0 477aa3ff9d22 54709b24b45f c337a85b8ef9 dc225bfdd246 9f11111004ec 4978e97aaf9b a9ee836e8303 7b37ec68bf67 c6611d0016e2'"
      ]
     },
     "execution_count": 26,
     "metadata": {},
     "output_type": "execute_result"
    }
   ],
   "source": [
    "test.Content[50000]"
   ]
  },
  {
   "cell_type": "code",
   "execution_count": 27,
   "metadata": {},
   "outputs": [
    {
     "data": {
      "text/plain": [
       "0.9925372"
      ]
     },
     "execution_count": 27,
     "metadata": {},
     "output_type": "execute_result"
    }
   ],
   "source": [
    "np.max(model.model.predict(vectorizer.transform([words])))"
   ]
  },
  {
   "cell_type": "code",
   "execution_count": 28,
   "metadata": {},
   "outputs": [
    {
     "data": {
      "text/plain": [
       "'POLICY CHANGE'"
      ]
     },
     "execution_count": 28,
     "metadata": {},
     "output_type": "execute_result"
    }
   ],
   "source": [
    "labels[np.argmax(model.model.predict(vectorizer.transform([words])))]"
   ]
  }
 ],
 "metadata": {
  "kernelspec": {
   "display_name": "Python 3",
   "language": "python",
   "name": "python3"
  },
  "language_info": {
   "codemirror_mode": {
    "name": "ipython",
    "version": 3
   },
   "file_extension": ".py",
   "mimetype": "text/x-python",
   "name": "python",
   "nbconvert_exporter": "python",
   "pygments_lexer": "ipython3",
   "version": "3.6.2"
  }
 },
 "nbformat": 4,
 "nbformat_minor": 2
}
