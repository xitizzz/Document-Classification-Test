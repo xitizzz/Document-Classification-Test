{
 "cells": [
  {
   "cell_type": "markdown",
   "metadata": {},
   "source": [
    "### Data Load"
   ]
  },
  {
   "cell_type": "code",
   "execution_count": 2,
   "metadata": {
    "collapsed": true
   },
   "outputs": [],
   "source": [
    "import pandas as pd\n",
    "import numpy as np"
   ]
  },
  {
   "cell_type": "code",
   "execution_count": 3,
   "metadata": {
    "collapsed": true
   },
   "outputs": [],
   "source": [
    "from sklearn.feature_extraction.text import CountVectorizer, TfidfVectorizer\n",
    "from sklearn.preprocessing import LabelEncoder, OneHotEncoder"
   ]
  },
  {
   "cell_type": "code",
   "execution_count": 4,
   "metadata": {
    "collapsed": true
   },
   "outputs": [],
   "source": [
    "min_doc_freq = 2"
   ]
  },
  {
   "cell_type": "code",
   "execution_count": 5,
   "metadata": {
    "collapsed": true
   },
   "outputs": [],
   "source": [
    "train = pd.read_pickle('./train.pkl')"
   ]
  },
  {
   "cell_type": "code",
   "execution_count": 6,
   "metadata": {
    "collapsed": true
   },
   "outputs": [],
   "source": [
    "test = pd.read_pickle('./test.pkl')"
   ]
  },
  {
   "cell_type": "code",
   "execution_count": 7,
   "metadata": {
    "collapsed": true
   },
   "outputs": [],
   "source": [
    "vectorizer  = TfidfVectorizer(min_df=min_doc_freq)"
   ]
  },
  {
   "cell_type": "code",
   "execution_count": 8,
   "metadata": {
    "collapsed": true
   },
   "outputs": [],
   "source": [
    "x_train = vectorizer.fit_transform(train.Content)"
   ]
  },
  {
   "cell_type": "code",
   "execution_count": 9,
   "metadata": {
    "collapsed": true
   },
   "outputs": [],
   "source": [
    "x_test = vectorizer.transform(test.Content)"
   ]
  },
  {
   "cell_type": "code",
   "execution_count": 10,
   "metadata": {
    "collapsed": true
   },
   "outputs": [],
   "source": [
    "label_encoder = LabelEncoder()"
   ]
  },
  {
   "cell_type": "code",
   "execution_count": 11,
   "metadata": {
    "collapsed": true
   },
   "outputs": [],
   "source": [
    "train_int_lbl = label_encoder.fit_transform(train.Lable.values)"
   ]
  },
  {
   "cell_type": "code",
   "execution_count": 12,
   "metadata": {
    "collapsed": true
   },
   "outputs": [],
   "source": [
    "test_int_lbl = label_encoder.transform(test.Lable.values)"
   ]
  },
  {
   "cell_type": "code",
   "execution_count": 13,
   "metadata": {
    "collapsed": true
   },
   "outputs": [],
   "source": [
    "n_samples = np.bincount(train_int_lbl).sum()"
   ]
  },
  {
   "cell_type": "code",
   "execution_count": 14,
   "metadata": {
    "collapsed": true
   },
   "outputs": [],
   "source": [
    "n_classes = np.bincount(train_int_lbl).shape[0]"
   ]
  },
  {
   "cell_type": "code",
   "execution_count": 15,
   "metadata": {
    "collapsed": true
   },
   "outputs": [],
   "source": [
    "one_hot =  OneHotEncoder(sparse=False)"
   ]
  },
  {
   "cell_type": "code",
   "execution_count": 16,
   "metadata": {
    "collapsed": true
   },
   "outputs": [],
   "source": [
    "y_train = one_hot.fit_transform(train_int_lbl.reshape(-1, 1))"
   ]
  },
  {
   "cell_type": "code",
   "execution_count": 17,
   "metadata": {
    "collapsed": true
   },
   "outputs": [],
   "source": [
    "y_test = one_hot.transform(test_int_lbl.reshape(-1, 1))"
   ]
  },
  {
   "cell_type": "markdown",
   "metadata": {},
   "source": [
    "### Feed Forward Network"
   ]
  },
  {
   "cell_type": "markdown",
   "metadata": {},
   "source": [
    "I use sklearn style wrapper for feed forward neural network. This wrapper allows to modify hyper-parameters quickly. It uses keras + tensorflow"
   ]
  },
  {
   "cell_type": "code",
   "execution_count": 22,
   "metadata": {
    "collapsed": true
   },
   "outputs": [],
   "source": [
    "batch_size=256\n",
    "hidden_layers=[100]\n",
    "epochs=10\n",
    "validation_split=0.1\n",
    "dropout=0.7\n",
    "balance_classes = True"
   ]
  },
  {
   "cell_type": "code",
   "execution_count": 23,
   "metadata": {
    "collapsed": true
   },
   "outputs": [],
   "source": [
    "if balance_classes:\n",
    "    weights = n_samples / (n_classes * np.bincount(train_int_lbl))\n",
    "    weights = {i:weights[i] for i in range(n_classes)}\n",
    "else:\n",
    "    weights = None"
   ]
  },
  {
   "cell_type": "code",
   "execution_count": 24,
   "metadata": {
    "collapsed": true,
    "scrolled": true
   },
   "outputs": [],
   "source": [
    "from neural_network import FeedForwardNetwork"
   ]
  },
  {
   "cell_type": "code",
   "execution_count": 25,
   "metadata": {
    "collapsed": true
   },
   "outputs": [],
   "source": [
    "model = FeedForwardNetwork(batch_size=batch_size, \n",
    "                           hidden_layers=hidden_layers ,\n",
    "                           verbosity=2, \n",
    "                           epochs=epochs, \n",
    "                           validation_split=validation_split,\n",
    "                           dropout=dropout, \n",
    "                           class_weight=weights)"
   ]
  },
  {
   "cell_type": "code",
   "execution_count": 26,
   "metadata": {
    "scrolled": true
   },
   "outputs": [
    {
     "name": "stdout",
     "output_type": "stream",
     "text": [
      "Data size (50000, 213172) -\t Epochs 10 -\t Batch Size 256\n",
      "Train on 45000 samples, validate on 5000 samples\n",
      "Epoch 1/10\n",
      "45000/45000 [==============================] - 76s 2ms/step - loss: 1.8826 - acc: 0.7054 - val_loss: 1.2133 - val_acc: 0.7632\n",
      "Epoch 2/10\n",
      "45000/45000 [==============================] - 76s 2ms/step - loss: 0.9573 - acc: 0.7718 - val_loss: 0.8432 - val_acc: 0.7786\n",
      "Epoch 3/10\n",
      "45000/45000 [==============================] - 75s 2ms/step - loss: 0.6313 - acc: 0.8161 - val_loss: 0.7198 - val_acc: 0.7986\n",
      "Epoch 4/10\n",
      "45000/45000 [==============================] - 75s 2ms/step - loss: 0.4484 - acc: 0.8576 - val_loss: 0.6783 - val_acc: 0.8164\n",
      "Epoch 5/10\n",
      "45000/45000 [==============================] - 76s 2ms/step - loss: 0.3257 - acc: 0.8898 - val_loss: 0.6685 - val_acc: 0.8228\n",
      "Epoch 6/10\n",
      "45000/45000 [==============================] - 76s 2ms/step - loss: 0.2449 - acc: 0.9099 - val_loss: 0.6822 - val_acc: 0.8308\n",
      "Epoch 7/10\n",
      "45000/45000 [==============================] - 76s 2ms/step - loss: 0.1939 - acc: 0.9279 - val_loss: 0.7036 - val_acc: 0.8376\n",
      "Epoch 8/10\n",
      "45000/45000 [==============================] - 75s 2ms/step - loss: 0.1515 - acc: 0.9427 - val_loss: 0.7374 - val_acc: 0.8412\n",
      "Epoch 9/10\n",
      "45000/45000 [==============================] - 73s 2ms/step - loss: 0.1267 - acc: 0.9525 - val_loss: 0.7606 - val_acc: 0.8428\n",
      "Epoch 10/10\n",
      "45000/45000 [==============================] - 72s 2ms/step - loss: 0.1053 - acc: 0.9600 - val_loss: 0.7832 - val_acc: 0.8422\n",
      "Fit complete in 751.87 seconds\n"
     ]
    }
   ],
   "source": [
    "model.fit(X=x_train, y=y_train)"
   ]
  },
  {
   "cell_type": "markdown",
   "metadata": {},
   "source": [
    "### Testing "
   ]
  },
  {
   "cell_type": "markdown",
   "metadata": {},
   "source": [
    "Test the model once finalized"
   ]
  },
  {
   "cell_type": "code",
   "execution_count": 27,
   "metadata": {},
   "outputs": [
    {
     "name": "stdout",
     "output_type": "stream",
     "text": [
      "12204/12204 [==============================] - 26s 2ms/step\n"
     ]
    },
    {
     "data": {
      "text/plain": [
       "[0.5201052383726364, 0.8456243854669304]"
      ]
     },
     "execution_count": 27,
     "metadata": {},
     "output_type": "execute_result"
    }
   ],
   "source": [
    "model.model.evaluate(x=x_test, y=y_test)"
   ]
  },
  {
   "cell_type": "code",
   "execution_count": 28,
   "metadata": {
    "collapsed": true
   },
   "outputs": [],
   "source": [
    "from utils import evaluate, plot_me_nice"
   ]
  },
  {
   "cell_type": "code",
   "execution_count": 29,
   "metadata": {
    "collapsed": true
   },
   "outputs": [],
   "source": [
    "accuracy, conf_mat, roc = evaluate(y_true=y_test, y_score=model.predict_proba(x_test))"
   ]
  },
  {
   "cell_type": "code",
   "execution_count": 30,
   "metadata": {},
   "outputs": [
    {
     "data": {
      "text/plain": [
       "0.8456243854473943"
      ]
     },
     "execution_count": 30,
     "metadata": {},
     "output_type": "execute_result"
    }
   ],
   "source": [
    "accuracy"
   ]
  },
  {
   "cell_type": "code",
   "execution_count": 31,
   "metadata": {},
   "outputs": [
    {
     "data": {
      "text/plain": [
       "0.9691861280847264"
      ]
     },
     "execution_count": 31,
     "metadata": {},
     "output_type": "execute_result"
    }
   ],
   "source": [
    "roc"
   ]
  },
  {
   "cell_type": "code",
   "execution_count": 32,
   "metadata": {},
   "outputs": [
    {
     "name": "stdout",
     "output_type": "stream",
     "text": [
      "[[  34    0    0    7    0    0    1    0    0    0    0    1    0    1]\n",
      " [   5 3200   78   65  163    1   40    1   64   21    2  100    6    3]\n",
      " [   0   14   22    4    0    0    0    0    0    0    0    6    0    0]\n",
      " [  14   22   10 1600    7    2   56    0    3    0    1   99    1    5]\n",
      " [   4   86    1    8 1588    0    4   99    4   33   12   30   34    1]\n",
      " [   0    1    1    6    1  147    2    0    1    0    0   17    0    0]\n",
      " [   1   32    1   50   10    1   73    5    2    3    1   18    1    1]\n",
      " [   0    2    0    1   56    3    3  867    0    5    0    3    1    0]\n",
      " [   0   13    0    1    3    0    1    2  111    1    1    2    3    0]\n",
      " [   0    5    1    0    5    0    1    1    1   38    0    0    0    0]\n",
      " [   0    0    0    0    0    0    1    2    0    0  120    2    0    0]\n",
      " [   9   73   31  129   17   33   69    8    9    7    8 1627   11    5]\n",
      " [   0    8    0    4   32    0    2    0    4    6    1   12  766    0]\n",
      " [   1    4    0    2    0    0    0    0    0    0    0    5    0  127]]\n"
     ]
    }
   ],
   "source": [
    "print(conf_mat)"
   ]
  },
  {
   "cell_type": "code",
   "execution_count": 33,
   "metadata": {
    "scrolled": false
   },
   "outputs": [
    {
     "data": {
      "image/png": "[encoded data removed]",
      "text/plain": [
       "<matplotlib.figure.Figure at 0x230648d8ef0>"
      ]
     },
     "metadata": {},
     "output_type": "display_data"
    }
   ],
   "source": [
    "plot_me_nice(confusion_matrix=conf_mat, labels=list(label_encoder.classes_), title='With Class Weights')"
   ]
  },
  {
   "cell_type": "markdown",
   "metadata": {},
   "source": [
    "### Testing (model without balancing)"
   ]
  },
  {
   "cell_type": "markdown",
   "metadata": {},
   "source": [
    "This are the results for the old model without balancing. It has slightly higher accuracy, but is biased towards classes with more instances and hence replaced with new model."
   ]
  },
  {
   "cell_type": "code",
   "execution_count": 22,
   "metadata": {},
   "outputs": [
    {
     "name": "stdout",
     "output_type": "stream",
     "text": [
      "12204/12204 [==============================] - 27s 2ms/step\n"
     ]
    },
    {
     "data": {
      "text/plain": [
       "[0.4588244205535494, 0.8594723042016419]"
      ]
     },
     "execution_count": 22,
     "metadata": {},
     "output_type": "execute_result"
    }
   ],
   "source": [
    "model.model.evaluate(x=x_test, y=y_test)"
   ]
  },
  {
   "cell_type": "code",
   "execution_count": 23,
   "metadata": {
    "collapsed": true
   },
   "outputs": [],
   "source": [
    "from utils import evaluate, plot_me_nice"
   ]
  },
  {
   "cell_type": "code",
   "execution_count": 24,
   "metadata": {
    "collapsed": true
   },
   "outputs": [],
   "source": [
    "accuracy, conf_mat, roc = evaluate(y_true=y_test, y_score=model.predict_proba(x_test))"
   ]
  },
  {
   "cell_type": "code",
   "execution_count": 29,
   "metadata": {},
   "outputs": [
    {
     "data": {
      "text/plain": [
       "0.8594723041625697"
      ]
     },
     "execution_count": 29,
     "metadata": {},
     "output_type": "execute_result"
    }
   ],
   "source": [
    "accuracy"
   ]
  },
  {
   "cell_type": "code",
   "execution_count": 30,
   "metadata": {},
   "outputs": [
    {
     "data": {
      "text/plain": [
       "0.9674547237760539"
      ]
     },
     "execution_count": 30,
     "metadata": {},
     "output_type": "execute_result"
    }
   ],
   "source": [
    "roc"
   ]
  },
  {
   "cell_type": "code",
   "execution_count": 25,
   "metadata": {},
   "outputs": [
    {
     "name": "stdout",
     "output_type": "stream",
     "text": [
      "[[  27    7    0    7    0    0    0    0    0    0    0    2    0    1]\n",
      " [   0 3409    3   69  154    0    0    1    8    4    1   96    3    1]\n",
      " [   0   31    4    5    0    0    0    0    0    0    0    6    0    0]\n",
      " [   1   41    1 1634   10    0    3    0    0    0    0  129    0    1]\n",
      " [   1  118    0   10 1647    0    0   57    1    3    2   38   27    0]\n",
      " [   0    5    0    3    1  133    0    0    1    0    0   33    0    0]\n",
      " [   1   41    0   99   12    1   10    5    0    0    0   28    1    1]\n",
      " [   0    2    0    3   81    2    0  847    0    0    0    5    1    0]\n",
      " [   0   36    0    3   10    0    1    2   69    0    0    7   10    0]\n",
      " [   0   11    0    2   22    0    0    2    0   13    0    2    0    0]\n",
      " [   0    0    0    0   38    0    0    2    0    0   80    5    0    0]\n",
      " [   2  112    1  119   18   10    2    8    5    0    2 1749    8    0]\n",
      " [   0   12    0    3   42    0    0    3    1    0    0   19  755    0]\n",
      " [   0    9    0    7    1    0    0    0    0    0    0   10    0  112]]\n"
     ]
    }
   ],
   "source": [
    "print(conf_mat)"
   ]
  },
  {
   "cell_type": "code",
   "execution_count": 28,
   "metadata": {
    "scrolled": false
   },
   "outputs": [
    {
     "data": {
      "image/png": "[encoded data removed]",
      "text/plain": [
       "<matplotlib.figure.Figure at 0x1928279d550>"
      ]
     },
     "metadata": {},
     "output_type": "display_data"
    }
   ],
   "source": [
    "plot_me_nice(confusion_matrix=conf_mat, labels=list(label_encoder.classes_), title='Without Class Weights')"
   ]
  },
  {
   "cell_type": "markdown",
   "metadata": {},
   "source": [
    "### Retrain and Pack Model"
   ]
  },
  {
   "cell_type": "markdown",
   "metadata": {},
   "source": [
    "Retrain on all data and serialize for use in application"
   ]
  },
  {
   "cell_type": "code",
   "execution_count": 34,
   "metadata": {
    "collapsed": true
   },
   "outputs": [],
   "source": [
    "import pickle as pk "
   ]
  },
  {
   "cell_type": "code",
   "execution_count": 35,
   "metadata": {
    "collapsed": true
   },
   "outputs": [],
   "source": [
    "data = pd.concat([train, test])"
   ]
  },
  {
   "cell_type": "code",
   "execution_count": 36,
   "metadata": {
    "collapsed": true
   },
   "outputs": [],
   "source": [
    "vectorizer  = TfidfVectorizer(min_df=min_doc_freq)"
   ]
  },
  {
   "cell_type": "code",
   "execution_count": 37,
   "metadata": {
    "collapsed": true
   },
   "outputs": [],
   "source": [
    "x = vectorizer.fit_transform(data.Content)"
   ]
  },
  {
   "cell_type": "code",
   "execution_count": 38,
   "metadata": {
    "collapsed": true
   },
   "outputs": [],
   "source": [
    "y = one_hot.transform(label_encoder.transform(data.Lable).reshape(-1, 1))"
   ]
  },
  {
   "cell_type": "code",
   "execution_count": 39,
   "metadata": {
    "collapsed": true
   },
   "outputs": [],
   "source": [
    "pk.dump(vectorizer, file=open('vectorizer.pkl', 'wb'))"
   ]
  },
  {
   "cell_type": "code",
   "execution_count": 40,
   "metadata": {
    "collapsed": true
   },
   "outputs": [],
   "source": [
    "# Same as previous model, but validation split and early stopping removed and epochs set to early stopped epochs\n",
    "model = FeedForwardNetwork(batch_size=batch_size, hidden_layers=hidden_layers ,verbosity=2, epochs=epochs, dropout=dropout, class_weight=weights)"
   ]
  },
  {
   "cell_type": "code",
   "execution_count": 41,
   "metadata": {},
   "outputs": [
    {
     "name": "stdout",
     "output_type": "stream",
     "text": [
      "Data size (62204, 256883) -\t Epochs 10 -\t Batch Size 256\n",
      "Epoch 1/10\n",
      "62204/62204 [==============================] - 112s 2ms/step - loss: 1.6749 - acc: 0.7167\n",
      "Epoch 2/10\n",
      "62204/62204 [==============================] - 112s 2ms/step - loss: 0.7999 - acc: 0.7846\n",
      "Epoch 3/10\n",
      "62204/62204 [==============================] - 111s 2ms/step - loss: 0.5244 - acc: 0.8350\n",
      "Epoch 4/10\n",
      "62204/62204 [==============================] - 111s 2ms/step - loss: 0.3748 - acc: 0.8715\n",
      "Epoch 5/10\n",
      "62204/62204 [==============================] - 111s 2ms/step - loss: 0.2731 - acc: 0.8998\n",
      "Epoch 6/10\n",
      "62204/62204 [==============================] - 109s 2ms/step - loss: 0.2053 - acc: 0.9220\n",
      "Epoch 7/10\n",
      "62204/62204 [==============================] - 113s 2ms/step - loss: 0.1622 - acc: 0.9355\n",
      "Epoch 8/10\n",
      "62204/62204 [==============================] - 112s 2ms/step - loss: 0.1305 - acc: 0.9464\n",
      "Epoch 9/10\n",
      "62204/62204 [==============================] - 111s 2ms/step - loss: 0.1083 - acc: 0.9550\n",
      "Epoch 10/10\n",
      "62204/62204 [==============================] - 111s 2ms/step - loss: 0.0913 - acc: 0.9633\n",
      "Fit complete in 1112.78 seconds\n"
     ]
    }
   ],
   "source": [
    "model.fit(X=x, y=y)"
   ]
  },
  {
   "cell_type": "code",
   "execution_count": 42,
   "metadata": {
    "collapsed": true
   },
   "outputs": [],
   "source": [
    "model.model.save('ffn.h5')"
   ]
  },
  {
   "cell_type": "markdown",
   "metadata": {},
   "source": [
    "### Test Case"
   ]
  },
  {
   "cell_type": "code",
   "execution_count": 18,
   "metadata": {
    "collapsed": true
   },
   "outputs": [],
   "source": [
    "words = test.Content[50001]"
   ]
  },
  {
   "cell_type": "code",
   "execution_count": 19,
   "metadata": {},
   "outputs": [
    {
     "data": {
      "text/plain": [
       "'CANCELLATION NOTICE'"
      ]
     },
     "execution_count": 19,
     "metadata": {},
     "output_type": "execute_result"
    }
   ],
   "source": [
    "test.Lable[50001]"
   ]
  },
  {
   "cell_type": "code",
   "execution_count": 20,
   "metadata": {
    "collapsed": true
   },
   "outputs": [],
   "source": [
    "labels = list(label_encoder.classes_)"
   ]
  },
  {
   "cell_type": "code",
   "execution_count": 21,
   "metadata": {},
   "outputs": [
    {
     "data": {
      "text/plain": [
       "['APPLICATION',\n",
       " 'BILL',\n",
       " 'BILL BINDER',\n",
       " 'BINDER',\n",
       " 'CANCELLATION NOTICE',\n",
       " 'CHANGE ENDORSEMENT',\n",
       " 'DECLARATION',\n",
       " 'DELETION OF INTEREST',\n",
       " 'EXPIRATION NOTICE',\n",
       " 'INTENT TO CANCEL NOTICE',\n",
       " 'NON-RENEWAL NOTICE',\n",
       " 'POLICY CHANGE',\n",
       " 'REINSTATEMENT NOTICE',\n",
       " 'RETURNED CHECK']"
      ]
     },
     "execution_count": 21,
     "metadata": {},
     "output_type": "execute_result"
    }
   ],
   "source": [
    "labels"
   ]
  },
  {
   "cell_type": "code",
   "execution_count": 22,
   "metadata": {
    "scrolled": true
   },
   "outputs": [
    {
     "data": {
      "text/plain": [
       "'26f7353edc2e fdf32f896cc3 70f06d7a2533 eeb86a6a04e4 656b219766dc 572b3238a2c4 77ac9d61ee2e da2e1b058e4b 5b6bc2f0bdb1 9cdf4a63deb0 ee0c03371a49 b59e343416f7 6b304aabdcee 572b3238a2c4 8159faa9d80d 628863dfcdcd c64dd4330ce5 4e5019f629a9 6ce6cc5a3203 798fe9915030 f62c5f87f0af 0562c756a2f2 0562c756a2f2 1b6d0614f2c7 f0666bdbc8a5 5ee06767bc0f 586242498a88 1ab34730c1e0 6b343f522f78 2a6fbe672600 69056c5109b2 1c303d15eb65 f62c5f87f0af ed1e3242ee34 c9a53ea6e219 5ee06767bc0f c12d8d8d9530 7d41ca882f26 094453b4e4ae d38820625542 f62c5f87f0af 6ca2dd348663 6dcc75eaf823 f9b20c280980 1b6d0614f2c7 3486e5fe0d73 549330b9e320 f62c5f87f0af 586242498a88 1068682ce752 26f768da5068 6af770640118 bad6ff5dd7bc 67f9c02008c6 586242498a88 1068682ce752 1068682ce752 6ca2dd348663 b208ae1e8232 d38820625542 7d9e333a86da 04503bc22789 ce1f034abb5d 7420f0cec354 1015893e384a 5e99d31d8fa4 5c02c2aaa67b 93790ade6682 a65259ff0092 6c8642055a4e 4357c81e10c1 f0fd45d01d0a a31962fbd5f3 b61f1af56200 ffca4a0468c8 036087ac04f9 b136f6349cf3 a86f2ba617ec 31e348ce8673 b208ae1e8232 a4a3e609776f 93c988b67c47 93790ade6682 a65259ff0092 d0a6ba7c50bf 4357c81e10c1 ee0c03371a49 a31962fbd5f3 b61f1af56200 8159faa9d80d 036087ac04f9 f95d0bea231b 62e6083f8497 2bcce4e05d9d 93c988b67c47 b3531359f1f0 d0a6ba7c50bf 1015893e384a 586242498a88 e67eb757a353 6d25574664d2 9cdf4a63deb0 b59e343416f7 9db511b7a0eb b136f6349cf3 a0b0a52dc0bc c686eca9e082 2e85d01c5d75 462e6c05affd 7433a13b89c9 4f838b97d76c 1b6d0614f2c7 10e45001c2f2 985b4ad33779 6af770640118 40cb5e209b92 1b6d0614f2c7 0562c756a2f2 4a0084089b01 4b47049a7fd1 572b3238a2c4 ddb55480e542 b73e657498f2 797c9990becb abb8303deaf3 628863dfcdcd f9f45f852e7b 572b3238a2c4 da2e1b058e4b fe64d3cdfe5b 2a6fbe672600 69056c5109b2 41a0ee0cf31a c87d29676bd1 4faebb8051b2 22d6fd31d92b e3d61318ef03 036087ac04f9 2bcce4e05d9d 010bdb69ff0a 44d3870bca21 b3531359f1f0 9da09997e84d 97b6014f9e50 e48a761e8248 d66654f82a7e e67eb757a353 9438d89a58ab 6d25574664d2 aa07c87e9ec6 1015893e384a 586242498a88 1f529be656b6 fc9dddb3717a 4357c81e10c1 172df7bf8eeb'"
      ]
     },
     "execution_count": 22,
     "metadata": {},
     "output_type": "execute_result"
    }
   ],
   "source": [
    "test.Content[50001]"
   ]
  },
  {
   "cell_type": "code",
   "execution_count": 87,
   "metadata": {},
   "outputs": [
    {
     "data": {
      "text/plain": [
       "0.9925707"
      ]
     },
     "execution_count": 87,
     "metadata": {},
     "output_type": "execute_result"
    }
   ],
   "source": [
    "np.max(model.model.predict(vectorizer.transform([words])))"
   ]
  },
  {
   "cell_type": "code",
   "execution_count": 88,
   "metadata": {},
   "outputs": [
    {
     "data": {
      "text/plain": [
       "'CANCELLATION NOTICE'"
      ]
     },
     "execution_count": 88,
     "metadata": {},
     "output_type": "execute_result"
    }
   ],
   "source": [
    "labels[np.argmax(model.model.predict(vectorizer.transform([words])))]"
   ]
  }
 ],
 "metadata": {
  "kernelspec": {
   "display_name": "Python 3",
   "language": "python",
   "name": "python3"
  },
  "language_info": {
   "codemirror_mode": {
    "name": "ipython",
    "version": 3
   },
   "file_extension": ".py",
   "mimetype": "text/x-python",
   "name": "python",
   "nbconvert_exporter": "python",
   "pygments_lexer": "ipython3",
   "version": "3.6.2"
  }
 },
 "nbformat": 4,
 "nbformat_minor": 2
}
